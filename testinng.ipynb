{
 "cells": [
  {
   "cell_type": "code",
   "execution_count": 419,
   "metadata": {},
   "outputs": [],
   "source": [
    "import numpy as np\n",
    "from Layer import Layer\n",
    "from ActivationFunctions import  Tanh, Softmax\n",
    "from Error import CELoss, der_CELoss\n",
    "from HelperFunctions import forward_pass, backward_pass, hot_encode\n",
    "\n",
    "import matplotlib.pyplot as plt\n",
    "import pandas as pd"
   ]
  },
  {
   "cell_type": "code",
   "execution_count": 420,
   "metadata": {},
   "outputs": [],
   "source": [
    "train_data = pd.read_csv(r\"C:\\Users\\pavle\\OneDrive\\Desktop\\MNIST from schrach\\csv_train.py.csv\")\n",
    "\n",
    "train_data = train_data.to_numpy()\n",
    "train_data = train_data.T\n",
    "\n",
    "pre = train_data[1:]\n",
    "pre_2   = train_data[0]\n",
    "pre = pre / 255\n",
    "X_train = pre.T \n",
    "X_train = np.expand_dims(X_train, axis = 2)\n",
    "Y_train = pre_2\n",
    "Y_train = np.expand_dims(Y_train ,axis = 1) "
   ]
  },
  {
   "cell_type": "code",
   "execution_count": 421,
   "metadata": {},
   "outputs": [],
   "source": [
    "net = [Layer(784, 16) ,Tanh(), Layer(16, 10), Softmax()]\n",
    "epochs =  5\n",
    "lr = 0.1"
   ]
  },
  {
   "cell_type": "code",
   "execution_count": 422,
   "metadata": {},
   "outputs": [
    {
     "name": "stdout",
     "output_type": "stream",
     "text": [
      "epoc = 1, error = 1.031209445634852 acc = 76.17\n",
      "epoc = 2, error = 0.45361196253349934 acc = 88.25\n",
      "epoc = 3, error = 0.395762266810231 acc = 90.27666666666667\n",
      "epoc = 4, error = 0.3646974806880783 acc = 91.31333333333333\n",
      "epoc = 5, error = 0.34312122878956614 acc = 91.96833333333333\n"
     ]
    }
   ],
   "source": [
    "for ep in range(epochs):\n",
    "\n",
    "    error  = 0.0\n",
    "    acc = 0.0\n",
    "    \n",
    "    for x, y in zip(X_train,Y_train): \n",
    "\n",
    "        pred = forward_pass(net, x)   # FORWARD\n",
    "\n",
    "        true = hot_encode(y, pred) \n",
    "\n",
    "        error += CELoss(true, pred)   # ERROR\n",
    "  \n",
    "        cat = np.argmax(pred) \n",
    "        acc += (cat == np.argmax(true)) \n",
    "\n",
    "        grad = der_CELoss(true, pred) \n",
    "\n",
    "        backward_pass(net, grad, lr)  #BACKWARD\n",
    "        \n",
    "    error /= len(Y_train)\n",
    "    acc /= len(Y_train)\n",
    "    acc = acc * 100\n",
    "    \n",
    "    print(f\"epoc = {ep + 1}, error = {error} acc = {acc}\")\n"
   ]
  },
  {
   "cell_type": "code",
   "execution_count": 455,
   "metadata": {},
   "outputs": [],
   "source": [
    "image = np.array([[[0],[0],[0],[0],[0],[0],[0],[0],[0],[0],[0],[0],[0],[0],[0],[0],[0],[0],[0],[0],[0],[0],[0],[0],[0],[0], [0], [0]],\n",
    "[[0],[0],[0],[0],[0],[0],[0],[0],[0],[0],[0],[0],[0],[0],[0],[0],[0],[0],[0],[0],[0],[0],[0],[0],[0],[0], [0], [0]],\n",
    "[[0],[0],[0],[0],[0],[0],[0],[0],[0],[0],[0],[0],[0],[0],[0],[0],[0],[0],[0],[0],[0],[0],[0],[0],[0],[0], [0], [0]],\n",
    "[[0],[0],[0],[0],[0],[0],[0],[0],[0],[0],[0],[0],[0],[0],[0],[0],[0],[0],[0],[0],[0],[0],[0],[0],[0],[0], [0], [0]],\n",
    "[[0],[0],[0],[0],[0],[0],[0],[0],[0],[0],[0],[0],[0],[0],[0],[0],[0],[0],[0],[0],[0],[0],[0],[0],[0],[0], [0], [0]],\n",
    "[[0],[0],[0],[0],[0],[0],[0],[0],[0],[0],[0],[1],[1],[1],[1],[0],[0],[0],[0],[0],[0],[0],[0],[0],[0],[0], [0], [0]],\n",
    "[[0],[0],[0],[0],[0],[0],[0],[0],[0],[0],[0],[0],[0],[0],[0],[1],[0],[0],[0],[0],[0],[0],[0],[0],[0],[0], [0], [0]],\n",
    "[[0],[0],[0],[0],[0],[0],[0],[0],[0],[0],[0],[0],[0],[0],[0],[0],[1],[0],[0],[0],[0],[0],[0],[0],[0],[0], [0], [0]],\n",
    "[[0],[0],[0],[0],[0],[0],[0],[0],[0],[0],[0],[0],[0],[0],[0],[0],[1],[0],[0],[0],[0],[0],[0],[0],[0],[0], [0], [0]],\n",
    "[[0],[0],[0],[0],[0],[0],[0],[0],[0],[0],[0],[0],[0],[0],[0],[0],[1],[0],[0],[0],[0],[0],[0],[0],[0],[0], [0], [0]],\n",
    "[[0],[0],[0],[0],[0],[0],[0],[0],[0],[0],[0],[0],[0],[0],[0],[0],[1],[0],[0],[0],[0],[0],[0],[0],[0],[0], [0], [0]],\n",
    "[[0],[0],[0],[0],[0],[0],[0],[0],[0],[0],[0],[0],[0],[0],[0],[0],[1],[0],[0],[0],[0],[0],[0],[0],[0],[0], [0], [0]],\n",
    "[[0],[0],[0],[0],[0],[0],[0],[0],[0],[0],[0],[0],[0],[0],[0],[0],[1],[0],[0],[0],[0],[0],[0],[0],[0],[0], [0], [0]],\n",
    "[[0],[0],[0],[0],[0],[0],[0],[0],[0],[0],[0],[0],[0],[0],[0],[0],[1],[0],[0],[0],[0],[0],[0],[0],[0],[0], [0], [0]],\n",
    "[[0],[0],[0],[0],[0],[0],[0],[0],[0],[0],[0],[0],[0],[0],[0],[1],[0],[0],[0],[0],[0],[0],[0],[0],[0],[0], [0], [0]],\n",
    "[[0],[0],[0],[0],[0],[0],[0],[0],[0],[0],[0],[0],[0],[0],[1],[0],[0],[0],[0],[0],[0],[0],[0],[0],[0],[0], [0], [0]],\n",
    "[[0],[0],[0],[0],[0],[0],[0],[0],[0],[0],[0],[0],[0],[1],[0],[0],[0],[0],[0],[0],[0],[0],[0],[0],[0],[0], [0], [0]],\n",
    "[[0],[0],[0],[0],[0],[0],[0],[0],[0],[0],[0],[0],[1],[0],[0],[0],[0],[0],[0],[0],[0],[0],[0],[0],[0],[0], [0], [0]],\n",
    "[[0],[0],[0],[0],[0],[0],[0],[0],[0],[0],[0],[1],[0],[0],[0],[0],[0],[0],[0],[0],[0],[0],[0],[0],[0],[0], [0], [0]],\n",
    "[[0],[0],[0],[0],[0],[0],[0],[0],[0],[0],[0],[1],[0],[0],[0],[0],[0],[0],[0],[0],[0],[0],[0],[0],[0],[0], [0], [0]],\n",
    "[[0],[0],[0],[0],[0],[0],[0],[0],[0],[0],[1],[1],[0],[0],[0],[0],[0],[0],[0],[0],[0],[0],[0],[0],[0],[0], [0], [0]],\n",
    "[[0],[0],[0],[0],[0],[0],[0],[0],[0],[0],[1],[1],[1],[1],[1],[1],[1],[0],[0],[0],[0],[0],[0],[0],[0],[0], [0], [0]],\n",
    "[[0],[0],[0],[0],[0],[0],[0],[0],[0],[0],[0],[0],[0],[0],[0],[0],[0],[0],[0],[0],[0],[0],[0],[0],[0],[0], [0], [0]],\n",
    "[[0],[0],[0],[0],[0],[0],[0],[0],[0],[0],[0],[0],[0],[0],[0],[0],[0],[0],[0],[0],[0],[0],[0],[0],[0],[0], [0], [0]],\n",
    "[[0],[0],[0],[0],[0],[0],[0],[0],[0],[0],[0],[0],[0],[0],[0],[0],[0],[0],[0],[0],[0],[0],[0],[0],[0],[0], [0], [0]],\n",
    "[[0],[0],[0],[0],[0],[0],[0],[0],[0],[0],[0],[0],[0],[0],[0],[0],[0],[0],[0],[0],[0],[0],[0],[0],[0],[0], [0], [0]],\n",
    "[[0],[0],[0],[0],[0],[0],[0],[0],[0],[0],[0],[0],[0],[0],[0],[0],[0],[0],[0],[0],[0],[0],[0],[0],[0],[0], [0], [0]],\n",
    "[[0],[0],[0],[0],[0],[0],[0],[0],[0],[0],[0],[0],[0],[0],[0],[0],[0],[0],[0],[0],[0],[0],[0],[0],[0],[0], [0], [0]]])\n",
    "\n",
    "#THAT SHOULD BE A TWO"
   ]
  },
  {
   "cell_type": "code",
   "execution_count": 456,
   "metadata": {},
   "outputs": [],
   "source": [
    "label = np.array([2])"
   ]
  },
  {
   "cell_type": "code",
   "execution_count": 457,
   "metadata": {},
   "outputs": [],
   "source": [
    "def prediction(sample,lable, net):\n",
    "\n",
    "    sample = np.ndarray.flatten(sample)\n",
    "    \n",
    "    sample = np.expand_dims(sample ,axis = 1)\n",
    "\n",
    "    pred = forward_pass(net, sample)\n",
    "    pred = np.argmax(pred)\n",
    "    \n",
    "    image = np.reshape(sample, (28,28))\n",
    "\n",
    "    plt.text(1,2 ,(f\"pred {pred}, true {lable}\"))\n",
    "    \n",
    "    plt.imshow(image)"
   ]
  },
  {
   "cell_type": "code",
   "execution_count": 458,
   "metadata": {},
   "outputs": [
    {
     "data": {
      "image/png": "[encoded data removed]",
      "text/plain": [
       "<Figure size 640x480 with 1 Axes>"
      ]
     },
     "metadata": {},
     "output_type": "display_data"
    }
   ],
   "source": [
    "prediction(image,label ,net)"
   ]
  },
  {
   "cell_type": "code",
   "execution_count": 451,
   "metadata": {},
   "outputs": [
    {
     "data": {
      "image/png": "[encoded data removed]",
      "text/plain": [
       "<Figure size 640x480 with 1 Axes>"
      ]
     },
     "metadata": {},
     "output_type": "display_data"
    }
   ],
   "source": [
    "sample = X_train[90]\n",
    "label_1 = Y_train[90]\n",
    "prediction(sample, label_1, net)"
   ]
  },
  {
   "cell_type": "code",
   "execution_count": null,
   "metadata": {},
   "outputs": [],
   "source": []
  }
 ],
 "metadata": {
  "kernelspec": {
   "display_name": "Python 3",
   "language": "python",
   "name": "python3"
  },
  "language_info": {
   "codemirror_mode": {
    "name": "ipython",
    "version": 3
   },
   "file_extension": ".py",
   "mimetype": "text/x-python",
   "name": "python",
   "nbconvert_exporter": "python",
   "pygments_lexer": "ipython3",
   "version": "3.9.0"
  },
  "orig_nbformat": 4,
  "vscode": {
   "interpreter": {
    "hash": "75daff32a5d0a89c32da8fe186cc95eda36c57939ef32a1dc2d40fa77430b921"
   }
  }
 },
 "nbformat": 4,
 "nbformat_minor": 2
}
